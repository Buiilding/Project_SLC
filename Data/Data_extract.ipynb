{
 "cells": [
  {
   "cell_type": "code",
   "execution_count": null,
   "id": "b82a02b6-cfa3-4109-be88-c833c6cf6e17",
   "metadata": {},
   "outputs": [],
   "source": [
    "import pandas as pd\n",
    "import os\n",
    "import numpy as np\n",
    "import shutil\n",
    "train_path = \"datasets/X.npy\"\n",
    "label_path = \"datasets/Y.npy\"\n",
    "label_data = np.load(label_path)\n",
    "y_pd = pd.DataFrame(label_data)\n",
    "y_pd = y_pd.values\n",
    "y_unique = []\n",
    "for x in y_pd:\n",
    "    if x not in y_unique:\n",
    "        y_unique.append(x)\n",
    "        \n",
    "X = sorted([x for x in os.listdir('C:\\\\Users\\\\tuana\\\\SLC\\\\datasets\\\\train')])\n",
    "\n",
    "data_path = 'C:\\\\Users\\\\tuana\\\\SLC\\\\datasets\\\\train'\n",
    "copy_path = 'C:\\\\Users\\\\tuana\\\\SLC\\\\datasets\\\\newdata'\n",
    "\n",
    "\n",
    "def copy_data(X: list, y_pd: list, id_class: str, data_path: str, copy_path: str, num_samples = 30):\n",
    "    \"\"\"\n",
    "    X: (list) of image file paths, \n",
    "    y_pd: (list) of label, \n",
    "    id_class: (str) name of class you want to copy, \n",
    "    data_path: (str) data stores image file, \n",
    "    copy_path: (str) new destination path to store image you want to copy\n",
    "    num_samples: (int) number of samples that you want to copy\n",
    "    \"\"\"\n",
    "    dest =   os.path.join(copy_path, id_class)\n",
    "    os.makedirs(dest, exist_ok=True)\n",
    "    count = 0\n",
    "    for idx, value in enumerate(X):\n",
    "        if y_pd[idx] == id_class:\n",
    "            imname = X[idx]\n",
    "            source = os.path.join(data_path, imname)\n",
    "            shutil.copy(source, dest)\n",
    "            count += 1\n",
    "        if count >= num_samples:\n",
    "            break\n",
    "            \n",
    "\n",
    "for id_class in y_unique: \n",
    "    copy_data(X, y_pd, id_class[0], data_path, copy_path, num_samples = 30)\n",
    "    \n"
   ]
  }
 ],
 "metadata": {
  "kernelspec": {
   "display_name": "Python 3 (ipykernel)",
   "language": "python",
   "name": "python3"
  },
  "language_info": {
   "codemirror_mode": {
    "name": "ipython",
    "version": 3
   },
   "file_extension": ".py",
   "mimetype": "text/x-python",
   "name": "python",
   "nbconvert_exporter": "python",
   "pygments_lexer": "ipython3",
   "version": "3.9.12"
  }
 },
 "nbformat": 4,
 "nbformat_minor": 5
}
